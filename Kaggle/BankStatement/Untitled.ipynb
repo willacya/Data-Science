{
 "cells": [
  {
   "cell_type": "code",
   "execution_count": 1,
   "metadata": {
    "collapsed": true
   },
   "outputs": [],
   "source": [
    "import numpy as np\n",
    "import pandas as pd"
   ]
  },
  {
   "cell_type": "code",
   "execution_count": 2,
   "metadata": {
    "collapsed": true
   },
   "outputs": [],
   "source": [
    "import matplotlib.pyplot as plt\n",
    "%matplotlib inline"
   ]
  },
  {
   "cell_type": "code",
   "execution_count": 49,
   "metadata": {
    "collapsed": false
   },
   "outputs": [],
   "source": [
    "df = pd.read_csv(\"statement2.csv\")"
   ]
  },
  {
   "cell_type": "code",
   "execution_count": 50,
   "metadata": {
    "collapsed": false
   },
   "outputs": [
    {
     "data": {
      "text/html": [
       "<div>\n",
       "<table border=\"1\" class=\"dataframe\">\n",
       "  <thead>\n",
       "    <tr style=\"text-align: right;\">\n",
       "      <th></th>\n",
       "      <th>Date</th>\n",
       "      <th>Transaction type</th>\n",
       "      <th>Description</th>\n",
       "      <th>Paid out</th>\n",
       "      <th>Paid in</th>\n",
       "      <th>Balance</th>\n",
       "    </tr>\n",
       "  </thead>\n",
       "  <tbody>\n",
       "    <tr>\n",
       "      <th>0</th>\n",
       "      <td>2015-08-14</td>\n",
       "      <td>Bank credit NHS PROF 75219</td>\n",
       "      <td>Bank credit NHS PROF 75219</td>\n",
       "      <td>NaN</td>\n",
       "      <td>216.88</td>\n",
       "      <td>1828.80</td>\n",
       "    </tr>\n",
       "    <tr>\n",
       "      <th>1</th>\n",
       "      <td>2015-08-14</td>\n",
       "      <td>Direct Debit - First Payment VIRGIN MEDIA PYMTS</td>\n",
       "      <td>VIRGIN MEDIA PYMTS</td>\n",
       "      <td>77.98</td>\n",
       "      <td>NaN</td>\n",
       "      <td>1750.82</td>\n",
       "    </tr>\n",
       "    <tr>\n",
       "      <th>2</th>\n",
       "      <td>2015-08-14</td>\n",
       "      <td>ATM Withdrawal LINK</td>\n",
       "      <td>ATM Withdrawal LINK</td>\n",
       "      <td>30.00</td>\n",
       "      <td>NaN</td>\n",
       "      <td>1720.82</td>\n",
       "    </tr>\n",
       "    <tr>\n",
       "      <th>3</th>\n",
       "      <td>2015-08-17</td>\n",
       "      <td>Direct debit EE &amp; T-MOBILE</td>\n",
       "      <td>EE &amp; T-MOBILE</td>\n",
       "      <td>31.87</td>\n",
       "      <td>NaN</td>\n",
       "      <td>1688.95</td>\n",
       "    </tr>\n",
       "    <tr>\n",
       "      <th>4</th>\n",
       "      <td>2015-08-17</td>\n",
       "      <td>Visa purchase</td>\n",
       "      <td>GOOGLE *Bethesda Games GOOGLE.COM/CH GB 0000</td>\n",
       "      <td>0.76</td>\n",
       "      <td>NaN</td>\n",
       "      <td>1688.19</td>\n",
       "    </tr>\n",
       "  </tbody>\n",
       "</table>\n",
       "</div>"
      ],
      "text/plain": [
       "         Date                                 Transaction type  \\\n",
       "0  2015-08-14                       Bank credit NHS PROF 75219   \n",
       "1  2015-08-14  Direct Debit - First Payment VIRGIN MEDIA PYMTS   \n",
       "2  2015-08-14                              ATM Withdrawal LINK   \n",
       "3  2015-08-17                       Direct debit EE & T-MOBILE   \n",
       "4  2015-08-17                                    Visa purchase   \n",
       "\n",
       "                                    Description  Paid out  Paid in  Balance  \n",
       "0                    Bank credit NHS PROF 75219       NaN   216.88  1828.80  \n",
       "1                            VIRGIN MEDIA PYMTS     77.98      NaN  1750.82  \n",
       "2                           ATM Withdrawal LINK     30.00      NaN  1720.82  \n",
       "3                                 EE & T-MOBILE     31.87      NaN  1688.95  \n",
       "4  GOOGLE *Bethesda Games GOOGLE.COM/CH GB 0000      0.76      NaN  1688.19  "
      ]
     },
     "execution_count": 50,
     "metadata": {},
     "output_type": "execute_result"
    }
   ],
   "source": [
    "df.head()"
   ]
  },
  {
   "cell_type": "code",
   "execution_count": 64,
   "metadata": {
    "collapsed": false
   },
   "outputs": [
    {
     "data": {
      "text/html": [
       "<div>\n",
       "<table border=\"1\" class=\"dataframe\">\n",
       "  <thead>\n",
       "    <tr style=\"text-align: right;\">\n",
       "      <th></th>\n",
       "      <th>Date</th>\n",
       "      <th>Paid out</th>\n",
       "    </tr>\n",
       "  </thead>\n",
       "  <tbody>\n",
       "    <tr>\n",
       "      <th>16</th>\n",
       "      <td>2015-08-22</td>\n",
       "      <td>5.99</td>\n",
       "    </tr>\n",
       "    <tr>\n",
       "      <th>88</th>\n",
       "      <td>2015-09-24</td>\n",
       "      <td>5.99</td>\n",
       "    </tr>\n",
       "    <tr>\n",
       "      <th>142</th>\n",
       "      <td>2015-10-23</td>\n",
       "      <td>5.99</td>\n",
       "    </tr>\n",
       "    <tr>\n",
       "      <th>205</th>\n",
       "      <td>2015-11-23</td>\n",
       "      <td>5.99</td>\n",
       "    </tr>\n",
       "    <tr>\n",
       "      <th>278</th>\n",
       "      <td>2015-12-23</td>\n",
       "      <td>5.99</td>\n",
       "    </tr>\n",
       "    <tr>\n",
       "      <th>335</th>\n",
       "      <td>2016-01-23</td>\n",
       "      <td>5.99</td>\n",
       "    </tr>\n",
       "    <tr>\n",
       "      <th>399</th>\n",
       "      <td>2016-02-23</td>\n",
       "      <td>5.99</td>\n",
       "    </tr>\n",
       "    <tr>\n",
       "      <th>462</th>\n",
       "      <td>2016-03-23</td>\n",
       "      <td>5.99</td>\n",
       "    </tr>\n",
       "    <tr>\n",
       "      <th>523</th>\n",
       "      <td>2016-04-23</td>\n",
       "      <td>5.99</td>\n",
       "    </tr>\n",
       "    <tr>\n",
       "      <th>580</th>\n",
       "      <td>2016-05-23</td>\n",
       "      <td>7.49</td>\n",
       "    </tr>\n",
       "    <tr>\n",
       "      <th>618</th>\n",
       "      <td>2016-06-22</td>\n",
       "      <td>7.49</td>\n",
       "    </tr>\n",
       "    <tr>\n",
       "      <th>669</th>\n",
       "      <td>2016-07-23</td>\n",
       "      <td>7.49</td>\n",
       "    </tr>\n",
       "    <tr>\n",
       "      <th>736</th>\n",
       "      <td>2016-08-22</td>\n",
       "      <td>7.49</td>\n",
       "    </tr>\n",
       "    <tr>\n",
       "      <th>793</th>\n",
       "      <td>2016-09-22</td>\n",
       "      <td>7.49</td>\n",
       "    </tr>\n",
       "    <tr>\n",
       "      <th>865</th>\n",
       "      <td>2016-10-22</td>\n",
       "      <td>7.49</td>\n",
       "    </tr>\n",
       "  </tbody>\n",
       "</table>\n",
       "</div>"
      ],
      "text/plain": [
       "           Date  Paid out\n",
       "16   2015-08-22      5.99\n",
       "88   2015-09-24      5.99\n",
       "142  2015-10-23      5.99\n",
       "205  2015-11-23      5.99\n",
       "278  2015-12-23      5.99\n",
       "335  2016-01-23      5.99\n",
       "399  2016-02-23      5.99\n",
       "462  2016-03-23      5.99\n",
       "523  2016-04-23      5.99\n",
       "580  2016-05-23      7.49\n",
       "618  2016-06-22      7.49\n",
       "669  2016-07-23      7.49\n",
       "736  2016-08-22      7.49\n",
       "793  2016-09-22      7.49\n",
       "865  2016-10-22      7.49"
      ]
     },
     "execution_count": 64,
     "metadata": {},
     "output_type": "execute_result"
    }
   ],
   "source": [
    "df[df['Transaction type'] == 'Visa purchase NETFLIX.COM'][['Date','Paid out']]"
   ]
  },
  {
   "cell_type": "code",
   "execution_count": 53,
   "metadata": {
    "collapsed": false
   },
   "outputs": [
    {
     "data": {
      "text/plain": [
       "<matplotlib.axes._subplots.AxesSubplot at 0xa66da20>"
      ]
     },
     "execution_count": 53,
     "metadata": {},
     "output_type": "execute_result"
    },
    {
     "data": {
      "image/png": "[encoded data removed]",
      "text/plain": [
       "<matplotlib.figure.Figure at 0xa818e80>"
      ]
     },
     "metadata": {},
     "output_type": "display_data"
    }
   ],
   "source": [
    "df.Balance.plot()"
   ]
  },
  {
   "cell_type": "code",
   "execution_count": 54,
   "metadata": {
    "collapsed": true
   },
   "outputs": [],
   "source": [
    "import seaborn as sns"
   ]
  },
  {
   "cell_type": "code",
   "execution_count": 61,
   "metadata": {
    "collapsed": false
   },
   "outputs": [
    {
     "data": {
      "text/plain": [
       "Visa purchase                                             467\n",
       "Contactless Payment                                       190\n",
       "Bank credit NHS PROF 75219                                 64\n",
       "ATM Withdrawal LINK                                        62\n",
       "Visa purchase NETFLIX.COM                                  15\n",
       "Direct debit EE & T-MOBILE                                 15\n",
       "Direct debit VIRGIN MONEY                                  15\n",
       "Direct debit SPECSAVERS FINANCE                            14\n",
       "Direct debit VIRGIN MEDIA PYMTS                             9\n",
       "Payment to                                                  6\n",
       "Visa Credit                                                 6\n",
       "Visa purchase SPOTIFY SPOTIFY PREMIU                        5\n",
       "Non-Sterling transaction fee                                4\n",
       "ATM Withdrawal RBS                                          4\n",
       "Standing order                                              4\n",
       "ATM Withdrawal SANTANDER                                    4\n",
       "Visa purchase GOOGLE *Tinder                                3\n",
       "Direct debit DACORUM SPORTS TST                             3\n",
       "Visa purchase MICROSOFT *XBOXLIVE                           2\n",
       "Visa purchase NOWTV.COM/BILLINGHELP                         2\n",
       "ATM Withdrawal LINK Inc charge from ATM Owner 1.650000      2\n",
       "Visa purchase SNUSLINE                                      1\n",
       "Bank credit A Ginger                                        1\n",
       "Direct Debit - First Payment SPECSAVERS FINANCE             1\n",
       "ATM Withdrawal NAT WEST                                     1\n",
       "Cheque deposit                                              1\n",
       "ATM Withdrawal NATIONWIDE                                   1\n",
       "Direct Debit - First Payment VIRGIN MEDIA PYMTS             1\n",
       "ATM Withdrawal HSBC                                         1\n",
       "Visa purchase Amazon Prime                                  1\n",
       "Transfer from                                               1\n",
       "Visa purchase AMAZON UK PRIME AMZN.CO.U                     1\n",
       "Bank credit GBS RE MOJ - HMCTS                              1\n",
       "Name: Transaction type, dtype: int64"
      ]
     },
     "execution_count": 61,
     "metadata": {},
     "output_type": "execute_result"
    }
   ],
   "source": [
    "df['Transaction type'].value_count"
   ]
  },
  {
   "cell_type": "code",
   "execution_count": null,
   "metadata": {
    "collapsed": true
   },
   "outputs": [],
   "source": []
  }
 ],
 "metadata": {
  "kernelspec": {
   "display_name": "Python 2",
   "language": "python",
   "name": "python2"
  },
  "language_info": {
   "codemirror_mode": {
    "name": "ipython",
    "version": 2
   },
   "file_extension": ".py",
   "mimetype": "text/x-python",
   "name": "python",
   "nbconvert_exporter": "python",
   "pygments_lexer": "ipython2",
   "version": "2.7.11"
  }
 },
 "nbformat": 4,
 "nbformat_minor": 0
}
