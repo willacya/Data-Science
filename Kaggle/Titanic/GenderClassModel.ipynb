{
 "cells": [
  {
   "cell_type": "code",
   "execution_count": 11,
   "metadata": {
    "collapsed": false
   },
   "outputs": [],
   "source": [
    "import csv as csv\n",
    "import numpy as np"
   ]
  },
  {
   "cell_type": "code",
   "execution_count": 12,
   "metadata": {
    "collapsed": false
   },
   "outputs": [],
   "source": [
    "csv_file_object = csv.reader(open(\"train.csv\",'rb'))\n",
    "header = csv_file_object.next()\n",
    "data = []"
   ]
  },
  {
   "cell_type": "code",
   "execution_count": 13,
   "metadata": {
    "collapsed": true
   },
   "outputs": [],
   "source": [
    "for row in csv_file_object:\n",
    "    data.append(row)\n",
    "data = np.array(data)"
   ]
  },
  {
   "cell_type": "code",
   "execution_count": 46,
   "metadata": {
    "collapsed": true
   },
   "outputs": [],
   "source": [
    "fare_ceiling = 40\n",
    "\n",
    "data[ data[0::,9].astype(np.float) >= fare_ceiling, 9] = fare_ceiling - 1.0\n",
    "\n",
    "fare_bracket_size = 10\n",
    "number_of_price_brackets = fare_ceiling / fare_bracket_size\n",
    "number_of_classes = 3\n",
    "number_of_classes = len(np.unique(data[0::,2]))"
   ]
  },
  {
   "cell_type": "code",
   "execution_count": 47,
   "metadata": {
    "collapsed": false
   },
   "outputs": [],
   "source": [
    "survival_table = np.zeros([2,number_of_classes,number_of_price_brackets],float)"
   ]
  },
  {
   "cell_type": "code",
   "execution_count": 48,
   "metadata": {
    "collapsed": false
   },
   "outputs": [],
   "source": [
    "for i in xrange(number_of_classes):\n",
    "    for j in xrange(number_of_price_brackets):\n",
    "\n",
    "        women_only_stats = data[ (data[0::,4] == \"female\") \\\n",
    "                                 & (data[0::,2].astype(np.float) == i+1) \\\n",
    "                                 & (data[0:,9].astype(np.float) >= j*fare_bracket_size) \\\n",
    "                                 & (data[0:,9].astype(np.float) < (j+1)*fare_bracket_size), 1]\n",
    "\n",
    "        men_only_stats = data[ (data[0::,4] != \"female\") \\\n",
    "                                 & (data[0::,2].astype(np.float) == i+1) \\\n",
    "                                 & (data[0:,9].astype(np.float) >= j*fare_bracket_size) \\\n",
    "                                 & (data[0:,9].astype(np.float) < (j+1)*fare_bracket_size), 1]\n",
    "\n",
    "                                 #if i == 0 and j == 3:\n",
    "\n",
    "        survival_table[0,i,j] = np.mean(women_only_stats.astype(np.float))  # Female stats\n",
    "        survival_table[1,i,j] = np.mean(men_only_stats.astype(np.float))    # Male stats\n"
   ]
  },
  {
   "cell_type": "code",
   "execution_count": 49,
   "metadata": {
    "collapsed": false
   },
   "outputs": [],
   "source": [
    "survival_table[ survival_table != survival_table ] = 0."
   ]
  },
  {
   "cell_type": "code",
   "execution_count": 50,
   "metadata": {
    "collapsed": false
   },
   "outputs": [
    {
     "data": {
      "text/plain": [
       "array([[[ 0.        ,  0.        ,  0.83333333,  0.97727273],\n",
       "        [ 0.        ,  0.91428571,  0.9       ,  1.        ],\n",
       "        [ 0.59375   ,  0.58139535,  0.33333333,  0.125     ]],\n",
       "\n",
       "       [[ 0.        ,  0.        ,  0.4       ,  0.38372093],\n",
       "        [ 0.        ,  0.15873016,  0.16      ,  0.21428571],\n",
       "        [ 0.11153846,  0.23684211,  0.125     ,  0.24      ]]])"
      ]
     },
     "execution_count": 50,
     "metadata": {},
     "output_type": "execute_result"
    }
   ],
   "source": [
    "survival_table"
   ]
  },
  {
   "cell_type": "code",
   "execution_count": 51,
   "metadata": {
    "collapsed": true
   },
   "outputs": [],
   "source": [
    "survival_table[survival_table < 0.5] = 0\n",
    "survival_table[survival_table >= 0.5] = 1"
   ]
  },
  {
   "cell_type": "code",
   "execution_count": 52,
   "metadata": {
    "collapsed": false
   },
   "outputs": [
    {
     "data": {
      "text/plain": [
       "array([[[ 0.,  0.,  1.,  1.],\n",
       "        [ 0.,  1.,  1.,  1.],\n",
       "        [ 1.,  1.,  0.,  0.]],\n",
       "\n",
       "       [[ 0.,  0.,  0.,  0.],\n",
       "        [ 0.,  0.,  0.,  0.],\n",
       "        [ 0.,  0.,  0.,  0.]]])"
      ]
     },
     "execution_count": 52,
     "metadata": {},
     "output_type": "execute_result"
    }
   ],
   "source": [
    "survival_table"
   ]
  },
  {
   "cell_type": "code",
   "execution_count": 64,
   "metadata": {
    "collapsed": false
   },
   "outputs": [],
   "source": [
    "test_file = open(\"test.csv\", \"rb\")\n",
    "test_file_object = csv.reader(test_file)\n",
    "header = test_file_object.next()\n",
    "predictions_file = open(\"genderclassmodel.csv\", \"wb\")\n",
    "p = csv.writer(predictions_file)\n",
    "p.writerow([\"PassengerId\",\"Survived\"])"
   ]
  },
  {
   "cell_type": "code",
   "execution_count": 65,
   "metadata": {
    "collapsed": false
   },
   "outputs": [
    {
     "name": "stderr",
     "output_type": "stream",
     "text": [
      "C:\\Users\\Director UYE\\Anaconda2\\lib\\site-packages\\ipykernel\\__main__.py:29: VisibleDeprecationWarning: using a non-integer number instead of an integer will result in an error in the future\n",
      "C:\\Users\\Director UYE\\Anaconda2\\lib\\site-packages\\ipykernel\\__main__.py:27: VisibleDeprecationWarning: using a non-integer number instead of an integer will result in an error in the future\n"
     ]
    }
   ],
   "source": [
    "for row in test_file_object: # Iterates through each row in the the test file object\n",
    "    \n",
    "    # finds a bin_fare\n",
    "    for j in xrange(number_of_price_brackets): # 0,1,2,3\n",
    "        \n",
    "        try:\n",
    "            \n",
    "            row[8] = float(row[8]) # attempts to make the fare a float\n",
    "        except:\n",
    "            bin_fare = 3 - float(row[1]) # if it fails it sets bin_fare = 3-Pclass i.e. 3-Pclass(3rd) = 0\n",
    "            break\n",
    "        if row[8] > fare_ceiling:\n",
    "            \n",
    "            bin_fare = number_of_price_brackets - 1 # if fare greater than 40 then bin_fare = 4-1 = 3\n",
    "            break\n",
    "        \n",
    "        # if fare greater than (0,1,2,3)*10 and less than (1,2,3,4)*10, bin_fare = (0,1,2,3)\n",
    "        if row[8] >= j * fare_bracket_size and row[8] < (j+1) * fare_bracket_size: # i.e.fare=15 => 1*10 and (1+1)*10\n",
    "            bin_fare = j                                                           #          15 is between (10-20) so \n",
    "            break                                                                  #          bin_fare = j = 1\n",
    "\n",
    "\n",
    "    if row[3] == 'female':\n",
    "        # write to file the Passenger Id row[0], and the value in the survival_table\n",
    "        # if fare = 15, bin would be 1. float of Pclass - 1 ie. 2\n",
    "        # so survival_table[0,2,1]\n",
    "        p.writerow([row[0], '%d' % \\\n",
    "                    int(survival_table[0, float(row[1])-1, bin_fare])])\n",
    "    else:\n",
    "        p.writerow([row[0], \"%d\" % \\\n",
    "                  int(survival_table[1, float(row[1])-1, bin_fare])])\n",
    "\n",
    "test_file.close()\n",
    "predictions_file.close()\n",
    "                \n",
    "        "
   ]
  },
  {
   "cell_type": "code",
   "execution_count": 63,
   "metadata": {
    "collapsed": false
   },
   "outputs": [
    {
     "data": {
      "text/plain": [
       "1.0"
      ]
     },
     "execution_count": 63,
     "metadata": {},
     "output_type": "execute_result"
    }
   ],
   "source": []
  },
  {
   "cell_type": "code",
   "execution_count": null,
   "metadata": {
    "collapsed": true
   },
   "outputs": [],
   "source": []
  }
 ],
 "metadata": {
  "kernelspec": {
   "display_name": "Python 2",
   "language": "python",
   "name": "python2"
  },
  "language_info": {
   "codemirror_mode": {
    "name": "ipython",
    "version": 2
   },
   "file_extension": ".py",
   "mimetype": "text/x-python",
   "name": "python",
   "nbconvert_exporter": "python",
   "pygments_lexer": "ipython2",
   "version": "2.7.11"
  }
 },
 "nbformat": 4,
 "nbformat_minor": 0
}
